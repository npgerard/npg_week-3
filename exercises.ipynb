{
 "cells": [
  {
   "cell_type": "markdown",
   "id": "0dead82f",
   "metadata": {},
   "source": [
    "<font color='darkred'> Unless otherwise noted, **this notebook will not be reviewed or autograded.**</font> You are welcome to use it for scratchwork, but **only the files listed in the exercises will be checked.**\n",
    "\n",
    "---\n",
    "\n",
    "# Exercises\n",
    "\n",
    "For these exercises, add your functions to the *apputil\\.py* file. If you like, you're welcome to adjust the *app\\.py* file, but it is not required."
   ]
  },
  {
   "cell_type": "markdown",
   "id": "a7ef09a6",
   "metadata": {},
   "source": [
    "## Notes on Recursion\n",
    "\n",
    "A [recursive function](https://www.w3schools.com/python/gloss_python_function_recursion.asp) is one which calls itself.\n",
    "\n",
    "1. When the function is called, your CPU runs through each line of code until the function needs to be called again.\n",
    "2. At that point, all variables are saved in memory, and the function runs through each line of code again until the function is called (again, but with a different passed argument), and so on.\n",
    "3. Eventually, this process will stop at the \"bottom of the **stack**\", where the function doesn't get a chance to call itself again (likely because of some condition un/met by the latest passed argument).\n",
    "4. Then, your CPU will work its way back up the stack to the final result. For example, take a look at [this visual example](https://realpython.com/python-recursion/#calculate-factorial) of calculating 4!.\n",
    "\n",
    "When you write these functions, keep two things in mind:\n",
    "\n",
    "- You will need a built-in stopping point (i.e., the \"bottom\"), where your function returns some result before it calls itself.\n",
    "- **Don't think too hard about this.** Recursion can be perplexing to conceptualize when writing the code. So, when you call the function inside the function, think about it as a magical \"hidden\" function that has already done what you want it to do.\n",
    "- [Python Tutor](https://pythontutor.com/) ([editor](https://pythontutor.com/visualize.html#mode=edit)) can be a helpful resource for this exercise!\n",
    "\n",
    "## Exercise 1\n",
    "\n",
    "The Fibonacci Series starts with 0 and 1. Each of the following numbers are the sum of the previous two numbers in the series:\n",
    "\n",
    "`0 1 1 2 3 5 8 13 21 34 ...`\n",
    "\n",
    "So, `fib(9) = 34`.\n",
    "\n",
    "Write a recursive function (`fib`) that, given `n`, will return the `n`th number of the Fibonacci Series.\n",
    "\n",
    "*Test your function using Google or any other tool that can calculate the Fibonacci Series.*"
   ]
  },
  {
   "cell_type": "code",
   "execution_count": 18,
   "id": "10b9210f",
   "metadata": {},
   "outputs": [
    {
     "ename": "KeyboardInterrupt",
     "evalue": "",
     "output_type": "error",
     "traceback": [
      "\u001b[31m---------------------------------------------------------------------------\u001b[39m",
      "\u001b[31mKeyboardInterrupt\u001b[39m                         Traceback (most recent call last)",
      "\u001b[36mCell\u001b[39m\u001b[36m \u001b[39m\u001b[32mIn[18]\u001b[39m\u001b[32m, line 5\u001b[39m\n\u001b[32m      2\u001b[39m     \u001b[38;5;28;01mif\u001b[39;00m n <= \u001b[32m1\u001b[39m: \u001b[38;5;28;01mreturn\u001b[39;00m n\n\u001b[32m      3\u001b[39m     \u001b[38;5;28;01melse\u001b[39;00m: \u001b[38;5;28;01mreturn\u001b[39;00m fib(n-\u001b[32m1\u001b[39m) + fib(n-\u001b[32m2\u001b[39m)\n\u001b[32m----> \u001b[39m\u001b[32m5\u001b[39m \u001b[38;5;28mprint\u001b[39m(\u001b[43mfib\u001b[49m\u001b[43m(\u001b[49m\u001b[32;43m80\u001b[39;49m\u001b[43m)\u001b[49m)\n",
      "\u001b[36mCell\u001b[39m\u001b[36m \u001b[39m\u001b[32mIn[18]\u001b[39m\u001b[32m, line 3\u001b[39m, in \u001b[36mfib\u001b[39m\u001b[34m(n)\u001b[39m\n\u001b[32m      1\u001b[39m \u001b[38;5;28;01mdef\u001b[39;00m\u001b[38;5;250m \u001b[39m\u001b[34mfib\u001b[39m(n):\n\u001b[32m      2\u001b[39m     \u001b[38;5;28;01mif\u001b[39;00m n <= \u001b[32m1\u001b[39m: \u001b[38;5;28;01mreturn\u001b[39;00m n\n\u001b[32m----> \u001b[39m\u001b[32m3\u001b[39m     \u001b[38;5;28;01melse\u001b[39;00m: \u001b[38;5;28;01mreturn\u001b[39;00m \u001b[43mfib\u001b[49m\u001b[43m(\u001b[49m\u001b[43mn\u001b[49m\u001b[43m-\u001b[49m\u001b[32;43m1\u001b[39;49m\u001b[43m)\u001b[49m + fib(n-\u001b[32m2\u001b[39m)\n",
      "\u001b[36mCell\u001b[39m\u001b[36m \u001b[39m\u001b[32mIn[18]\u001b[39m\u001b[32m, line 3\u001b[39m, in \u001b[36mfib\u001b[39m\u001b[34m(n)\u001b[39m\n\u001b[32m      1\u001b[39m \u001b[38;5;28;01mdef\u001b[39;00m\u001b[38;5;250m \u001b[39m\u001b[34mfib\u001b[39m(n):\n\u001b[32m      2\u001b[39m     \u001b[38;5;28;01mif\u001b[39;00m n <= \u001b[32m1\u001b[39m: \u001b[38;5;28;01mreturn\u001b[39;00m n\n\u001b[32m----> \u001b[39m\u001b[32m3\u001b[39m     \u001b[38;5;28;01melse\u001b[39;00m: \u001b[38;5;28;01mreturn\u001b[39;00m \u001b[43mfib\u001b[49m\u001b[43m(\u001b[49m\u001b[43mn\u001b[49m\u001b[43m-\u001b[49m\u001b[32;43m1\u001b[39;49m\u001b[43m)\u001b[49m + fib(n-\u001b[32m2\u001b[39m)\n",
      "    \u001b[31m[... skipping similar frames: fib at line 3 (57 times)]\u001b[39m\n",
      "\u001b[36mCell\u001b[39m\u001b[36m \u001b[39m\u001b[32mIn[18]\u001b[39m\u001b[32m, line 3\u001b[39m, in \u001b[36mfib\u001b[39m\u001b[34m(n)\u001b[39m\n\u001b[32m      1\u001b[39m \u001b[38;5;28;01mdef\u001b[39;00m\u001b[38;5;250m \u001b[39m\u001b[34mfib\u001b[39m(n):\n\u001b[32m      2\u001b[39m     \u001b[38;5;28;01mif\u001b[39;00m n <= \u001b[32m1\u001b[39m: \u001b[38;5;28;01mreturn\u001b[39;00m n\n\u001b[32m----> \u001b[39m\u001b[32m3\u001b[39m     \u001b[38;5;28;01melse\u001b[39;00m: \u001b[38;5;28;01mreturn\u001b[39;00m fib(n-\u001b[32m1\u001b[39m) + \u001b[43mfib\u001b[49m\u001b[43m(\u001b[49m\u001b[43mn\u001b[49m\u001b[43m-\u001b[49m\u001b[32;43m2\u001b[39;49m\u001b[43m)\u001b[49m\n",
      "\u001b[36mCell\u001b[39m\u001b[36m \u001b[39m\u001b[32mIn[18]\u001b[39m\u001b[32m, line 1\u001b[39m, in \u001b[36mfib\u001b[39m\u001b[34m(n)\u001b[39m\n\u001b[32m----> \u001b[39m\u001b[32m1\u001b[39m \u001b[38;5;28;01mdef\u001b[39;00m\u001b[38;5;250m \u001b[39m\u001b[34mfib\u001b[39m(n):\n\u001b[32m      2\u001b[39m     \u001b[38;5;28;01mif\u001b[39;00m n <= \u001b[32m1\u001b[39m: \u001b[38;5;28;01mreturn\u001b[39;00m n\n\u001b[32m      3\u001b[39m     \u001b[38;5;28;01melse\u001b[39;00m: \u001b[38;5;28;01mreturn\u001b[39;00m fib(n-\u001b[32m1\u001b[39m) + fib(n-\u001b[32m2\u001b[39m)\n",
      "\u001b[31mKeyboardInterrupt\u001b[39m: "
     ]
    }
   ],
   "source": [
    "def fib(n):\n",
    "    if n <= 1: return n\n",
    "    else: return fib(n-1) + fib(n-2)\n",
    "\n",
    "print(fib(80))"
   ]
  },
  {
   "cell_type": "markdown",
   "id": "4bef64e9",
   "metadata": {},
   "source": [
    "\n",
    "## Exercise 2\n",
    "\n",
    "Write a (single) recursive function, `to_binary()`, that [converts](https://en.wikipedia.org/wiki/Binary_number#Conversion_to_and_from_other_numeral_systems) an integer into its [binary](https://en.wikipedia.org/wiki/Binary_number) representation. So, for example:\n",
    "\n",
    "```python\n",
    "to_binary(2)   -->  10\n",
    "to_binary(12)  -->  1100\n",
    "```\n",
    "\n",
    "*Note: you can test your function with the built in `bin()` function.*"
   ]
  },
  {
   "cell_type": "code",
   "execution_count": null,
   "id": "eb033460",
   "metadata": {},
   "outputs": [
    {
     "name": "stdout",
     "output_type": "stream",
     "text": [
      "11111111\n"
     ]
    }
   ],
   "source": [
    "def to_b(n):\n",
    "    # binary of n <= 1 is n\n",
    "    if n <= 1: return n\n",
    "    else: return (\n",
    "        to_b(n%2)  # returns the remainder of n divided by 2, e.g. 5%2 = 1, 4%2 = 0; \n",
    "                   #any modulus 2 is either 0 or 1, giving us the first (rightmost) binary digit\n",
    "        + 10*to_b(n//2) # integer division, e.g. 5//2 = 2; \n",
    "                        # for any other number, get the floor of n/2, and multiply the result by 10 to shift left in binary\n",
    "    )\n",
    "print(to_b(255))\n",
    "\n"
   ]
  },
  {
   "cell_type": "markdown",
   "id": "dd991538",
   "metadata": {},
   "source": [
    "## Exercise 3 \n",
    "\n",
    "Use the raw Bellevue Almshouse Dataset (`df_bellevue`) extracted at the top of the lab (i.e., with `pd.read_csv ...`).\n",
    "\n",
    "**Write a function for each of the following tasks. Name these functions `task_i()`** (i.e., without any input arguments).\n",
    "\n",
    "1. Return a list of all column names, *sorted* such that the first column has the *least* missing values, and the last column has the *most* missing values (use the raw column names).\n",
    "   - *Note: there is an issue with the `gender` column you'll need to remedy first ...*\n",
    "2. Return a **data frame** with two columns:\n",
    "   - the year (for each year in the data), `year`\n",
    "   - the total number of entries (immigrant admissions) for each year, `total_admissions`\n",
    "3. Return a **series** with:\n",
    "   - Index: gender (for each gender in the data)\n",
    "   - Values: the average age for the indexed gender.\n",
    "4. Return a list of the 5 most common professions *in order of prevalence* (so, the most common is first).\n",
    "\n",
    "For each of these, if there are messy data issues, use the `print` statement to explain.\n"
   ]
  },
  {
   "cell_type": "code",
   "execution_count": 20,
   "id": "5993ce51",
   "metadata": {},
   "outputs": [
    {
     "data": {
      "text/html": [
       "<div>\n",
       "<style scoped>\n",
       "    .dataframe tbody tr th:only-of-type {\n",
       "        vertical-align: middle;\n",
       "    }\n",
       "\n",
       "    .dataframe tbody tr th {\n",
       "        vertical-align: top;\n",
       "    }\n",
       "\n",
       "    .dataframe thead th {\n",
       "        text-align: right;\n",
       "    }\n",
       "</style>\n",
       "<table border=\"1\" class=\"dataframe\">\n",
       "  <thead>\n",
       "    <tr style=\"text-align: right;\">\n",
       "      <th></th>\n",
       "      <th>date_in</th>\n",
       "      <th>first_name</th>\n",
       "      <th>last_name</th>\n",
       "      <th>age</th>\n",
       "      <th>disease</th>\n",
       "      <th>profession</th>\n",
       "      <th>gender</th>\n",
       "      <th>children</th>\n",
       "    </tr>\n",
       "  </thead>\n",
       "  <tbody>\n",
       "    <tr>\n",
       "      <th>0</th>\n",
       "      <td>1847-04-17</td>\n",
       "      <td>Mary</td>\n",
       "      <td>Gallagher</td>\n",
       "      <td>28.0</td>\n",
       "      <td>recent emigrant</td>\n",
       "      <td>married</td>\n",
       "      <td>w</td>\n",
       "      <td>Child Alana 10 days</td>\n",
       "    </tr>\n",
       "    <tr>\n",
       "      <th>1</th>\n",
       "      <td>1847-04-08</td>\n",
       "      <td>John</td>\n",
       "      <td>Sanin (?)</td>\n",
       "      <td>19.0</td>\n",
       "      <td>recent emigrant</td>\n",
       "      <td>laborer</td>\n",
       "      <td>m</td>\n",
       "      <td>Catherine 2 mo</td>\n",
       "    </tr>\n",
       "    <tr>\n",
       "      <th>2</th>\n",
       "      <td>1847-04-17</td>\n",
       "      <td>Anthony</td>\n",
       "      <td>Clark</td>\n",
       "      <td>60.0</td>\n",
       "      <td>recent emigrant</td>\n",
       "      <td>laborer</td>\n",
       "      <td>m</td>\n",
       "      <td>Charles Riley afed 10 days</td>\n",
       "    </tr>\n",
       "    <tr>\n",
       "      <th>3</th>\n",
       "      <td>1847-04-08</td>\n",
       "      <td>Lawrence</td>\n",
       "      <td>Feeney</td>\n",
       "      <td>32.0</td>\n",
       "      <td>recent emigrant</td>\n",
       "      <td>laborer</td>\n",
       "      <td>m</td>\n",
       "      <td>Child</td>\n",
       "    </tr>\n",
       "    <tr>\n",
       "      <th>4</th>\n",
       "      <td>1847-04-13</td>\n",
       "      <td>Henry</td>\n",
       "      <td>Joyce</td>\n",
       "      <td>21.0</td>\n",
       "      <td>recent emigrant</td>\n",
       "      <td>NaN</td>\n",
       "      <td>m</td>\n",
       "      <td>Child 1 mo</td>\n",
       "    </tr>\n",
       "  </tbody>\n",
       "</table>\n",
       "</div>"
      ],
      "text/plain": [
       "      date_in first_name  last_name   age          disease profession gender  \\\n",
       "0  1847-04-17       Mary  Gallagher  28.0  recent emigrant    married      w   \n",
       "1  1847-04-08       John  Sanin (?)  19.0  recent emigrant    laborer      m   \n",
       "2  1847-04-17    Anthony      Clark  60.0  recent emigrant    laborer      m   \n",
       "3  1847-04-08   Lawrence     Feeney  32.0  recent emigrant    laborer      m   \n",
       "4  1847-04-13      Henry      Joyce  21.0  recent emigrant        NaN      m   \n",
       "\n",
       "                     children  \n",
       "0         Child Alana 10 days  \n",
       "1              Catherine 2 mo  \n",
       "2  Charles Riley afed 10 days  \n",
       "3                       Child  \n",
       "4                  Child 1 mo  "
      ]
     },
     "execution_count": 20,
     "metadata": {},
     "output_type": "execute_result"
    }
   ],
   "source": [
    "import pandas as pd\n",
    "url = 'https://github.com/melaniewalsh/Intro-Cultural-Analytics/raw/master/book/data/bellevue_almshouse_modified.csv'\n",
    "\n",
    "df_bellevue = pd.read_csv(url)\n",
    "\n",
    "df_bellevue.head()"
   ]
  },
  {
   "cell_type": "code",
   "execution_count": 26,
   "id": "55e6b35c",
   "metadata": {},
   "outputs": [
    {
     "name": "stdout",
     "output_type": "stream",
     "text": [
      "gender\n",
      "m    4958\n",
      "w    4621\n",
      "?       2\n",
      "g       2\n",
      "h       1\n",
      "Name: count, dtype: int64\n"
     ]
    }
   ],
   "source": [
    "print(df_bellevue['gender'].value_counts(dropna=False))"
   ]
  },
  {
   "cell_type": "code",
   "execution_count": null,
   "id": "ae4a7bc9",
   "metadata": {},
   "outputs": [
    {
     "name": "stdout",
     "output_type": "stream",
     "text": [
      "['date_in', 'last_name', 'year', 'first_name', 'gender', 'age', 'profession', 'disease', 'children']\n"
     ]
    }
   ],
   "source": [
    "import numpy as np\n",
    "\n",
    "#1. Return a list of all column names, *sorted* such that \n",
    "# the first column has the *least* missing values, \n",
    "# and the last column has the *most* missing values (use the raw column names).\n",
    "\n",
    "def fix_gender():\n",
    "    '''returns the dataframe of bellevue with corrected gender markers (replaces anything ^m or ^w with NaN)'''\n",
    "    # first, fix the gender column to set the invalid values to NaN\n",
    "    df_fixedgender = df_bellevue.copy()\n",
    "    df_fixedgender['gender'] = df_fixedgender['gender'].where(df_fixedgender['gender'].isin(['m', 'w']), np.nan)\n",
    "    return df_fixedgender\n",
    "\n",
    "\n",
    "def task_1():\n",
    "    '''returns column list sorted by number of missing values ascending'''\n",
    "    # get a dataframe with the fixed genders from the fix_gender function\n",
    "    df_fixedgender = fix_gender()\n",
    "\n",
    "    # return the list of column names sorted by number of missing values\n",
    "    return df_fixedgender.isnull().sum().sort_values(ascending=True).index.tolist()\n",
    "\n",
    "# testing task_1()\n",
    "print(task_1())"
   ]
  },
  {
   "cell_type": "code",
   "execution_count": 38,
   "id": "2f063397",
   "metadata": {},
   "outputs": [
    {
     "data": {
      "text/html": [
       "<div>\n",
       "<style scoped>\n",
       "    .dataframe tbody tr th:only-of-type {\n",
       "        vertical-align: middle;\n",
       "    }\n",
       "\n",
       "    .dataframe tbody tr th {\n",
       "        vertical-align: top;\n",
       "    }\n",
       "\n",
       "    .dataframe thead th {\n",
       "        text-align: right;\n",
       "    }\n",
       "</style>\n",
       "<table border=\"1\" class=\"dataframe\">\n",
       "  <thead>\n",
       "    <tr style=\"text-align: right;\">\n",
       "      <th></th>\n",
       "      <th>date_in</th>\n",
       "      <th>first_name</th>\n",
       "      <th>last_name</th>\n",
       "      <th>age</th>\n",
       "      <th>disease</th>\n",
       "      <th>profession</th>\n",
       "      <th>gender</th>\n",
       "      <th>children</th>\n",
       "    </tr>\n",
       "  </thead>\n",
       "  <tbody>\n",
       "    <tr>\n",
       "      <th>0</th>\n",
       "      <td>1847-04-17</td>\n",
       "      <td>Mary</td>\n",
       "      <td>Gallagher</td>\n",
       "      <td>28.0</td>\n",
       "      <td>recent emigrant</td>\n",
       "      <td>married</td>\n",
       "      <td>w</td>\n",
       "      <td>Child Alana 10 days</td>\n",
       "    </tr>\n",
       "    <tr>\n",
       "      <th>1</th>\n",
       "      <td>1847-04-08</td>\n",
       "      <td>John</td>\n",
       "      <td>Sanin (?)</td>\n",
       "      <td>19.0</td>\n",
       "      <td>recent emigrant</td>\n",
       "      <td>laborer</td>\n",
       "      <td>m</td>\n",
       "      <td>Catherine 2 mo</td>\n",
       "    </tr>\n",
       "    <tr>\n",
       "      <th>2</th>\n",
       "      <td>1847-04-17</td>\n",
       "      <td>Anthony</td>\n",
       "      <td>Clark</td>\n",
       "      <td>60.0</td>\n",
       "      <td>recent emigrant</td>\n",
       "      <td>laborer</td>\n",
       "      <td>m</td>\n",
       "      <td>Charles Riley afed 10 days</td>\n",
       "    </tr>\n",
       "    <tr>\n",
       "      <th>3</th>\n",
       "      <td>1847-04-08</td>\n",
       "      <td>Lawrence</td>\n",
       "      <td>Feeney</td>\n",
       "      <td>32.0</td>\n",
       "      <td>recent emigrant</td>\n",
       "      <td>laborer</td>\n",
       "      <td>m</td>\n",
       "      <td>Child</td>\n",
       "    </tr>\n",
       "    <tr>\n",
       "      <th>4</th>\n",
       "      <td>1847-04-13</td>\n",
       "      <td>Henry</td>\n",
       "      <td>Joyce</td>\n",
       "      <td>21.0</td>\n",
       "      <td>recent emigrant</td>\n",
       "      <td>NaN</td>\n",
       "      <td>m</td>\n",
       "      <td>Child 1 mo</td>\n",
       "    </tr>\n",
       "    <tr>\n",
       "      <th>...</th>\n",
       "      <td>...</td>\n",
       "      <td>...</td>\n",
       "      <td>...</td>\n",
       "      <td>...</td>\n",
       "      <td>...</td>\n",
       "      <td>...</td>\n",
       "      <td>...</td>\n",
       "      <td>...</td>\n",
       "    </tr>\n",
       "    <tr>\n",
       "      <th>9579</th>\n",
       "      <td>1847-06-17</td>\n",
       "      <td>Mary</td>\n",
       "      <td>Smith</td>\n",
       "      <td>47.0</td>\n",
       "      <td>NaN</td>\n",
       "      <td>NaN</td>\n",
       "      <td>w</td>\n",
       "      <td>NaN</td>\n",
       "    </tr>\n",
       "    <tr>\n",
       "      <th>9580</th>\n",
       "      <td>1847-06-22</td>\n",
       "      <td>Francis</td>\n",
       "      <td>Riley</td>\n",
       "      <td>29.0</td>\n",
       "      <td>lame</td>\n",
       "      <td>superintendent</td>\n",
       "      <td>m</td>\n",
       "      <td>NaN</td>\n",
       "    </tr>\n",
       "    <tr>\n",
       "      <th>9581</th>\n",
       "      <td>1847-07-02</td>\n",
       "      <td>Martin</td>\n",
       "      <td>Dunn</td>\n",
       "      <td>4.0</td>\n",
       "      <td>NaN</td>\n",
       "      <td>NaN</td>\n",
       "      <td>m</td>\n",
       "      <td>NaN</td>\n",
       "    </tr>\n",
       "    <tr>\n",
       "      <th>9582</th>\n",
       "      <td>1847-07-08</td>\n",
       "      <td>Elizabeth</td>\n",
       "      <td>Post</td>\n",
       "      <td>32.0</td>\n",
       "      <td>NaN</td>\n",
       "      <td>NaN</td>\n",
       "      <td>w</td>\n",
       "      <td>NaN</td>\n",
       "    </tr>\n",
       "    <tr>\n",
       "      <th>9583</th>\n",
       "      <td>1847-04-28</td>\n",
       "      <td>Bridget</td>\n",
       "      <td>Ryan</td>\n",
       "      <td>28.0</td>\n",
       "      <td>destitution</td>\n",
       "      <td>spinster</td>\n",
       "      <td>w</td>\n",
       "      <td>NaN</td>\n",
       "    </tr>\n",
       "  </tbody>\n",
       "</table>\n",
       "<p>9584 rows × 8 columns</p>\n",
       "</div>"
      ],
      "text/plain": [
       "         date_in first_name  last_name   age          disease      profession  \\\n",
       "0     1847-04-17       Mary  Gallagher  28.0  recent emigrant         married   \n",
       "1     1847-04-08       John  Sanin (?)  19.0  recent emigrant         laborer   \n",
       "2     1847-04-17    Anthony      Clark  60.0  recent emigrant         laborer   \n",
       "3     1847-04-08   Lawrence     Feeney  32.0  recent emigrant         laborer   \n",
       "4     1847-04-13      Henry      Joyce  21.0  recent emigrant             NaN   \n",
       "...          ...        ...        ...   ...              ...             ...   \n",
       "9579  1847-06-17       Mary      Smith  47.0              NaN             NaN   \n",
       "9580  1847-06-22    Francis      Riley  29.0             lame  superintendent   \n",
       "9581  1847-07-02     Martin       Dunn   4.0              NaN             NaN   \n",
       "9582  1847-07-08  Elizabeth       Post  32.0              NaN             NaN   \n",
       "9583  1847-04-28    Bridget       Ryan  28.0      destitution        spinster   \n",
       "\n",
       "     gender                    children  \n",
       "0         w         Child Alana 10 days  \n",
       "1         m              Catherine 2 mo  \n",
       "2         m  Charles Riley afed 10 days  \n",
       "3         m                       Child  \n",
       "4         m                  Child 1 mo  \n",
       "...     ...                         ...  \n",
       "9579      w                         NaN  \n",
       "9580      m                         NaN  \n",
       "9581      m                         NaN  \n",
       "9582      w                         NaN  \n",
       "9583      w                         NaN  \n",
       "\n",
       "[9584 rows x 8 columns]"
      ]
     },
     "execution_count": 38,
     "metadata": {},
     "output_type": "execute_result"
    }
   ],
   "source": [
    "df_bellevue"
   ]
  },
  {
   "cell_type": "code",
   "execution_count": null,
   "id": "52b17e7b",
   "metadata": {},
   "outputs": [
    {
     "data": {
      "text/html": [
       "<div>\n",
       "<style scoped>\n",
       "    .dataframe tbody tr th:only-of-type {\n",
       "        vertical-align: middle;\n",
       "    }\n",
       "\n",
       "    .dataframe tbody tr th {\n",
       "        vertical-align: top;\n",
       "    }\n",
       "\n",
       "    .dataframe thead th {\n",
       "        text-align: right;\n",
       "    }\n",
       "</style>\n",
       "<table border=\"1\" class=\"dataframe\">\n",
       "  <thead>\n",
       "    <tr style=\"text-align: right;\">\n",
       "      <th></th>\n",
       "      <th>year</th>\n",
       "      <th>total_admissions</th>\n",
       "    </tr>\n",
       "  </thead>\n",
       "  <tbody>\n",
       "    <tr>\n",
       "      <th>0</th>\n",
       "      <td>1846</td>\n",
       "      <td>3073</td>\n",
       "    </tr>\n",
       "    <tr>\n",
       "      <th>1</th>\n",
       "      <td>1847</td>\n",
       "      <td>6511</td>\n",
       "    </tr>\n",
       "  </tbody>\n",
       "</table>\n",
       "</div>"
      ],
      "text/plain": [
       "   year  total_admissions\n",
       "0  1846              3073\n",
       "1  1847              6511"
      ]
     },
     "execution_count": 40,
     "metadata": {},
     "output_type": "execute_result"
    }
   ],
   "source": [
    "\n",
    "\n",
    "\n",
    "df_bellevue.groupby('year').size().reset_index(name='total_admissions')\n"
   ]
  },
  {
   "cell_type": "code",
   "execution_count": 48,
   "id": "8a13f865",
   "metadata": {},
   "outputs": [
    {
     "name": "stdout",
     "output_type": "stream",
     "text": [
      "['date_in', 'last_name', 'year', 'first_name', 'gender', 'age', 'profession', 'disease', 'children']\n"
     ]
    }
   ],
   "source": [
    "print(task_1())"
   ]
  },
  {
   "cell_type": "code",
   "execution_count": 41,
   "id": "752b661e",
   "metadata": {},
   "outputs": [
    {
     "name": "stdout",
     "output_type": "stream",
     "text": [
      "   year  total_admissions\n",
      "0  1846              3073\n",
      "1  1847              6511\n"
     ]
    }
   ],
   "source": [
    "#2. Return a **data frame** with two columns:\n",
    "#   - the year (for each year in the data), `year`\n",
    "#   - the total number of entries (immigrant admissions) for each year, `total_admissions`\n",
    "\n",
    "def task_2():\n",
    "    '''returns a dataframe with year and total_admissions columns'''\n",
    "    #add a new column 'year' extracted from the 'admission_date' column\n",
    "    df_bellevue['year'] = pd.to_datetime(df_bellevue['date_in'], errors='coerce').dt.year\n",
    "\n",
    "    # group by year and count the number of entries for each year\n",
    "    df_yearly = df_bellevue.groupby('year').size().reset_index(name='total_admissions')\n",
    "    return df_yearly\n",
    " \n",
    "\n",
    "# testing task_2()\n",
    "print(task_2())\n",
    "\n",
    "\n"
   ]
  },
  {
   "cell_type": "code",
   "execution_count": 50,
   "id": "cbb43051",
   "metadata": {},
   "outputs": [
    {
     "name": "stdout",
     "output_type": "stream",
     "text": [
      "gender\n",
      "m    31.813433\n",
      "w    28.725162\n",
      "Name: age, dtype: float64\n"
     ]
    }
   ],
   "source": [
    "# 3. Return a **series** with:\n",
    "#   - Index: gender (for each gender in the data)\n",
    "#   - Values: the average age for the indexed gender.\n",
    "\n",
    "def task_3():\n",
    "    '''returns a series with average age per gender'''\n",
    "\n",
    "    # first, get the gender-adjusted dataframe from fix_gender() function\n",
    "    df_fixedgender = fix_gender()\n",
    "    # first group by, then calculate the mean age for each\n",
    "    return df_fixedgender.groupby('gender')['age'].mean()\n",
    "\n",
    "\n",
    "# testing task_3()\n",
    "print(task_3())\n",
    "    "
   ]
  },
  {
   "cell_type": "code",
   "execution_count": 54,
   "id": "f2c9ecdf",
   "metadata": {},
   "outputs": [
    {
     "name": "stdout",
     "output_type": "stream",
     "text": [
      "['laborer', 'married', 'spinster', 'widow', 'shoemaker']\n"
     ]
    }
   ],
   "source": [
    "# 4. Return a list of the 5 most common professions *in order of prevalence* (so, the most common is first).\n",
    "def task_4():\n",
    "    '''returns a list of the 5 most common professions in order of prevalence'''\n",
    "    # group by profession, count the occurrences, sort descending, get the top 5, and return as a list\n",
    "    return df_bellevue.groupby('profession').size().sort_values(ascending=False).head(5).index.tolist()\n",
    "\n",
    "# testing task_4()\n",
    "print(task_4())"
   ]
  },
  {
   "cell_type": "code",
   "execution_count": 52,
   "id": "3c94d2cf",
   "metadata": {},
   "outputs": [
    {
     "data": {
      "text/plain": [
       "['manow(?)', 'moulder', 'miniature painter', 'marketmab', 'mariner']"
      ]
     },
     "execution_count": 52,
     "metadata": {},
     "output_type": "execute_result"
    }
   ],
   "source": [
    "df_bellevue.groupby('profession').size().sort_values(ascending=True).head(5).index.tolist()"
   ]
  }
 ],
 "metadata": {
  "kernelspec": {
   "display_name": "Python 3",
   "language": "python",
   "name": "python3"
  },
  "language_info": {
   "codemirror_mode": {
    "name": "ipython",
    "version": 3
   },
   "file_extension": ".py",
   "mimetype": "text/x-python",
   "name": "python",
   "nbconvert_exporter": "python",
   "pygments_lexer": "ipython3",
   "version": "3.13.7"
  }
 },
 "nbformat": 4,
 "nbformat_minor": 5
}
